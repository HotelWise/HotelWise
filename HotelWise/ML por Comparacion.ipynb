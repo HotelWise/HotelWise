{
 "cells": [
  {
   "cell_type": "code",
   "execution_count": null,
   "metadata": {},
   "outputs": [],
   "source": [
    "import pandas as pd\n",
    "import tensorflow as tf\n",
    "import tensorflow_recommenders as tfrs\n",
    "import numpy as np\n",
    "from sklearn.model_selection import train_test_split"
   ]
  },
  {
   "cell_type": "code",
   "execution_count": null,
   "metadata": {},
   "outputs": [],
   "source": [
    "# Cargar datos desde CSV\n",
    "data = pd.read_csv('hoteles.csv')\n",
    "\n",
    "# Preprocesamiento de datos\n",
    "unique_hotels = data['hotel_id'].unique()\n",
    "unique_users = np.arange(len(unique_hotels))"
   ]
  },
  {
   "cell_type": "code",
   "execution_count": null,
   "metadata": {},
   "outputs": [],
   "source": [
    "# Mapear ids de hoteles y usuarios en los datos\n",
    "hotel_to_user_mapping = dict(zip(unique_hotels, unique_users))\n",
    "user_to_hotel_mapping = dict(zip(unique_users, unique_hotels))"
   ]
  },
  {
   "cell_type": "code",
   "execution_count": null,
   "metadata": {},
   "outputs": [],
   "source": [
    "# Mapear ids de usuarios y hoteles en los datos\n",
    "data['user_id'] = data['hotel_id'].map(hotel_to_user_mapping)"
   ]
  },
  {
   "cell_type": "code",
   "execution_count": null,
   "metadata": {},
   "outputs": [],
   "source": [
    "# Dividir datos en conjunto de entrenamiento y prueba\n",
    "train_data, test_data = train_test_split(data, test_size=0.2, random_state=42)"
   ]
  },
  {
   "cell_type": "code",
   "execution_count": null,
   "metadata": {},
   "outputs": [],
   "source": [
    "# Definir modelo de recomendación\n",
    "class HotelModel(tfrs.Model):\n",
    "    def __init__(self):\n",
    "        super().__init__()\n",
    "        self.embedding_dimension = 32\n",
    "        \n",
    "        # Definir capas de embedding para usuarios, hoteles, estados y ciudades\n",
    "        self.hotel_embeddings = tf.keras.layers.Embedding(\n",
    "            input_dim=len(unique_hotels) + 1,\n",
    "            output_dim=self.embedding_dimension\n",
    "        )\n",
    "        self.user_embeddings = tf.keras.layers.Embedding(\n",
    "            input_dim=len(unique_users) + 1,\n",
    "            output_dim=self.embedding_dimension\n",
    "        )\n",
    "        self.state_embeddings = tf.keras.layers.Embedding(\n",
    "            input_dim=len(data['state'].unique()) + 1,\n",
    "            output_dim=self.embedding_dimension\n",
    "        )\n",
    "        self.city_embeddings = tf.keras.layers.Embedding(\n",
    "            input_dim=len(data['city'].unique()) + 1,\n",
    "            output_dim=self.embedding_dimension\n",
    "        )\n",
    "        \n",
    "        # Definir capa de producto punto para calcular similitud entre usuarios y hoteles\n",
    "        self.task = tfrs.tasks.Retrieval(\n",
    "            metrics=tfrs.metrics.FactorizedTopK(\n",
    "                candidates=unique_hotels.tolist()\n",
    "            )\n",
    "        )\n",
    "\n",
    "    def compute_loss(self, features, training=False):\n",
    "        hotel_embeddings = self.hotel_embeddings(features['hotel_id'])\n",
    "        user_embeddings = self.user_embeddings(features['user_id'])\n",
    "        state_embeddings = self.state_embeddings(features['state'])\n",
    "        city_embeddings = self.city_embeddings(features['city'])\n",
    "\n",
    "        return self.task(user_embeddings + state_embeddings + city_embeddings, hotel_embeddings)"
   ]
  },
  {
   "cell_type": "code",
   "execution_count": null,
   "metadata": {},
   "outputs": [],
   "source": [
    "# Crear dataset de TensorFlow\n",
    "train_dataset = tf.data.Dataset.from_tensor_slices(dict(train_data))\n",
    "test_dataset = tf.data.Dataset.from_tensor_slices(dict(test_data))"
   ]
  },
  {
   "cell_type": "code",
   "execution_count": null,
   "metadata": {},
   "outputs": [],
   "source": [
    "# Configurar modelo y entrenamiento\n",
    "model = HotelModel()\n",
    "model.compile(optimizer=tf.keras.optimizers.Adagrad(0.1))"
   ]
  },
  {
   "cell_type": "code",
   "execution_count": null,
   "metadata": {},
   "outputs": [],
   "source": [
    "# Entrenar el modelo\n",
    "model.fit(train_dataset.batch(32), epochs=10)"
   ]
  },
  {
   "cell_type": "code",
   "execution_count": null,
   "metadata": {},
   "outputs": [],
   "source": [
    "# Solicitar entrada del usuario para la ciudad y el estado\n",
    "city = input(\"Ingrese la ciudad: \")\n",
    "state = input(\"Ingrese el estado: \")"
   ]
  },
  {
   "cell_type": "code",
   "execution_count": null,
   "metadata": {},
   "outputs": [],
   "source": [
    "# Generar recomendaciones para la ciudad y el estado proporcionados por el usuario\n",
    "user_id = len(unique_users) + 1  # Asignar un nuevo ID de usuario para la entrada del usuario\n",
    "city_embedding = model.city_embeddings(tf.constant([city]))  # Obtener embedding de la ciudad\n",
    "state_embedding = model.state_embeddings(tf.constant([state]))  # Obtener embedding del estado\n",
    "user_embedding = model.user_embeddings(tf.constant([user_id]))  # Obtener embedding del usuario\n",
    "query_embedding = user_embedding + city_embedding + state_embedding  # Combinar embeddings"
   ]
  },
  {
   "cell_type": "code",
   "execution_count": null,
   "metadata": {},
   "outputs": [],
   "source": [
    "# Obtener las 5 mejores recomendaciones para la entrada del usuario\n",
    "top_recommendations = model.task.recommend(query_embedding, candidates=tf.constant(unique_hotels), k=5)\n",
    "top_hotel_ids = top_recommendations[0].numpy()"
   ]
  },
  {
   "cell_type": "code",
   "execution_count": null,
   "metadata": {},
   "outputs": [],
   "source": [
    "# Imprimir los IDs de los hoteles recomendados\n",
    "print(\"Los mejores hoteles recomendados son:\")\n",
    "for hotel_id in top_hotel_ids:\n",
    "    print(user_to_hotel_mapping[hotel_id])"
   ]
  }
 ],
 "metadata": {
  "language_info": {
   "name": "python"
  }
 },
 "nbformat": 4,
 "nbformat_minor": 2
}
