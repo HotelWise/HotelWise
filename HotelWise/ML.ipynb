{
 "cells": [
  {
   "cell_type": "code",
   "execution_count": null,
   "metadata": {},
   "outputs": [],
   "source": [
    "import pandas as pd\n",
    "import tensorflow as tf\n",
    "import tensorflow_recommenders as tfrs\n",
    "import numpy as np\n",
    "from sklearn.model_selection import train_test_split"
   ]
  },
  {
   "cell_type": "code",
   "execution_count": null,
   "metadata": {},
   "outputs": [],
   "source": [
    "# Cargar datos desde CSV\n",
    "data = pd.read_csv('hoteles.csv')\n",
    "\n",
    "# Preprocesamiento de datos\n",
    "train_data, test_data = train_test_split(data, test_size=0.2, random_state=42)"
   ]
  },
  {
   "cell_type": "code",
   "execution_count": null,
   "metadata": {},
   "outputs": [],
   "source": [
    "# Definir modelo de recomendación\n",
    "class HotelModel(tfrs.Model):\n",
    "    def __init__(self):\n",
    "        super().__init__()\n",
    "        self.embedding_dimension = 32\n",
    "\n",
    "        # Definir capas de embedding para estados y ciudades\n",
    "        self.state_embeddings = tf.keras.layers.Embedding(\n",
    "            input_dim=len(data['state'].unique()) + 1,\n",
    "            output_dim=self.embedding_dimension\n",
    "        )\n",
    "        self.city_embeddings = tf.keras.layers.Embedding(\n",
    "            input_dim=len(data['city'].unique()) + 1,\n",
    "            output_dim=self.embedding_dimension\n",
    "        )\n",
    "\n",
    "        # Capa para concatenar las embeddings de estado y ciudad\n",
    "        self.concat_layer = tf.keras.layers.Concatenate(axis=1)\n",
    "\n",
    "        # Capas densas para procesar los datos de entrada\n",
    "        self.dense1 = tf.keras.layers.Dense(64, activation='relu')\n",
    "        self.dense2 = tf.keras.layers.Dense(32, activation='relu')\n",
    "\n",
    "        # Capa de salida para la recomendación\n",
    "        self.output_layer = tf.keras.layers.Dense(\n",
    "            1)  # Una salida para rating o sentimiento\n",
    "\n",
    "    def call(self, inputs):\n",
    "        # Obtener embeddings de estado y ciudad\n",
    "        state_embeddings = self.state_embeddings(inputs['state'])\n",
    "        city_embeddings = self.city_embeddings(inputs['city'])\n",
    "\n",
    "        # Concatenar embeddings de estado y ciudad\n",
    "        concatenated = self.concat_layer([state_embeddings, city_embeddings])\n",
    "\n",
    "        # Procesar datos de entrada a través de capas densas\n",
    "        x = self.dense1(concatenated)\n",
    "        x = self.dense2(x)\n",
    "\n",
    "        # Capa de salida para la recomendación\n",
    "        return self.output_layer(x)"
   ]
  },
  {
   "cell_type": "code",
   "execution_count": null,
   "metadata": {},
   "outputs": [],
   "source": [
    "# Crear dataset de TensorFlow\n",
    "train_dataset = tf.data.Dataset.from_tensor_slices((\n",
    "    {'state': train_data['state'], 'city': train_data['city']},\n",
    "    {'rating': train_data['rating'], 'sentimiento': train_data['sentimiento']}\n",
    "))\n",
    "test_dataset = tf.data.Dataset.from_tensor_slices((\n",
    "    {'state': test_data['state'], 'city': test_data['city']},\n",
    "    {'rating': test_data['rating'], 'sentimiento': test_data['sentimiento']}\n",
    "))"
   ]
  },
  {
   "cell_type": "code",
   "execution_count": null,
   "metadata": {},
   "outputs": [],
   "source": [
    "# Configurar modelo y entrenamiento\n",
    "model = HotelModel()\n",
    "model.compile(optimizer=tf.keras.optimizers.Adam(), loss='mean_squared_error')\n",
    "\n",
    "# Entrenar el modelo\n",
    "model.fit(train_dataset.shuffle(len(train_data)).batch(32), epochs=10)"
   ]
  },
  {
   "cell_type": "code",
   "execution_count": null,
   "metadata": {},
   "outputs": [],
   "source": [
    "# Solicitar entrada del usuario para la ciudad y el estado\n",
    "city = input(\"Ingrese la ciudad: \")\n",
    "state = input(\"Ingrese el estado: \")"
   ]
  },
  {
   "cell_type": "code",
   "execution_count": null,
   "metadata": {},
   "outputs": [],
   "source": [
    "# Generar recomendaciones para la ciudad y el estado proporcionados por el usuario\n",
    "# Crear un batch con la entrada del usuario\n",
    "user_input = {'state': np.array([state]), 'city': np.array([city])}\n",
    "# Obtener la predicción del modelo\n",
    "predicted_rating = model(user_input).numpy()[0][0]\n",
    "\n",
    "print(\"La calificación predicha para la ciudad {} y el estado {} es: {}\".format(\n",
    "    city, state, predicted_rating))"
   ]
  }
 ],
 "metadata": {
  "language_info": {
   "name": "python"
  }
 },
 "nbformat": 4,
 "nbformat_minor": 2
}
