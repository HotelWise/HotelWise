{
 "cells": [
  {
   "cell_type": "markdown",
   "metadata": {},
   "source": [
    "# EDA: REVIWS ESTADOS"
   ]
  },
  {
   "cell_type": "markdown",
   "metadata": {},
   "source": [
    "Importamos la librerias que usaremos para hacer analisis de los datos."
   ]
  },
  {
   "cell_type": "code",
   "execution_count": 61,
   "metadata": {},
   "outputs": [],
   "source": [
    "import pandas as pd\n",
    "import json"
   ]
  },
  {
   "cell_type": "markdown",
   "metadata": {},
   "source": [
    "Definimos funsiones para el tratamiento de los datos."
   ]
  },
  {
   "cell_type": "code",
   "execution_count": 62,
   "metadata": {},
   "outputs": [],
   "source": [
    "# Funsion para remover columnas no necesarias.\n",
    "def eliminar_columnas(df: pd.DataFrame) -> pd.DataFrame:\n",
    "    columns_to_remove = ['address', 'description', 'price', 'hours', 'MISC', 'state', 'relative_results']\n",
    "    return df.drop(columns=columns_to_remove)\n",
    "\n",
    "# Funsion para hacer un explode en aquellas columnas que contienen listas de datos.\n",
    "def explode_columna(df: pd.DataFrame, columna_a_explodar: str) -> pd.DataFrame:\n",
    "    return df.explode(columna_a_explodar)\n",
    "\n",
    "# Funsion para tratamiento de datos duplicados por columna.\n",
    "def eliminar_duplicados(df: pd.DataFrame, columna_a_verificar: str) -> pd.DataFrame:\n",
    "    return df.drop_duplicates(subset=[columna_a_verificar], keep='first')\n",
    "\n",
    "# Funsion para filtrar la categoria que vayamos a usar de acuerdo al tipo de estudio de eleccion.\n",
    "def filtrar_por_categoria(df: pd.DataFrame, columna_a_filtrar: str, keyword: str) -> pd.DataFrame:\n",
    "    df = df.dropna(subset=[columna_a_filtrar])\n",
    "    return df[df[columna_a_filtrar].str.contains(keyword, case=False)]"
   ]
  },
  {
   "cell_type": "markdown",
   "metadata": {},
   "source": [
    "Cargo los datos en un DataFrame."
   ]
  },
  {
   "cell_type": "code",
   "execution_count": 63,
   "metadata": {},
   "outputs": [],
   "source": [
    "df1 = pd.read_json('C:/Users/Jonathan y Johana/Desktop/DATA/Google Maps/metadata-sitios/1.json', lines=True)\n"
   ]
  },
  {
   "cell_type": "markdown",
   "metadata": {},
   "source": [
    "Aplico la funsion para eliminar columnas no necesarias."
   ]
  },
  {
   "cell_type": "code",
   "execution_count": 64,
   "metadata": {},
   "outputs": [],
   "source": [
    "df_nuevo = eliminar_columnas(df1)"
   ]
  },
  {
   "cell_type": "markdown",
   "metadata": {},
   "source": [
    "Analíso el conteo de filas para ver como se esta comportando mi data."
   ]
  },
  {
   "cell_type": "code",
   "execution_count": 65,
   "metadata": {},
   "outputs": [
    {
     "data": {
      "text/plain": [
       "275001"
      ]
     },
     "execution_count": 65,
     "metadata": {},
     "output_type": "execute_result"
    }
   ],
   "source": [
    "df_nuevo.shape[0]"
   ]
  },
  {
   "cell_type": "markdown",
   "metadata": {},
   "source": [
    "Hacemos un explode en la columna de categoria para extraer los datos de una mejor manera"
   ]
  },
  {
   "cell_type": "code",
   "execution_count": 66,
   "metadata": {},
   "outputs": [],
   "source": [
    "df_nuevo = explode_columna(df_nuevo,'category')"
   ]
  },
  {
   "cell_type": "markdown",
   "metadata": {},
   "source": [
    "Analíso el conteo de filas para ver como se esta comportando mi data."
   ]
  },
  {
   "cell_type": "code",
   "execution_count": 67,
   "metadata": {},
   "outputs": [
    {
     "data": {
      "text/plain": [
       "532733"
      ]
     },
     "execution_count": 67,
     "metadata": {},
     "output_type": "execute_result"
    }
   ],
   "source": [
    "df_nuevo.shape[0]"
   ]
  },
  {
   "cell_type": "markdown",
   "metadata": {},
   "source": [
    "Filtro por hotel para obtener solo los datos que necesito."
   ]
  },
  {
   "cell_type": "code",
   "execution_count": 68,
   "metadata": {},
   "outputs": [],
   "source": [
    "df_nuevo = filtrar_por_categoria(df_nuevo,'category','hotel')\n"
   ]
  },
  {
   "cell_type": "markdown",
   "metadata": {},
   "source": [
    "Analíso el conteo de filas para ver como se esta comportando mi data."
   ]
  },
  {
   "cell_type": "code",
   "execution_count": 69,
   "metadata": {},
   "outputs": [
    {
     "data": {
      "text/plain": [
       "769"
      ]
     },
     "execution_count": 69,
     "metadata": {},
     "output_type": "execute_result"
    }
   ],
   "source": [
    "df_nuevo.shape[0]"
   ]
  },
  {
   "cell_type": "markdown",
   "metadata": {},
   "source": [
    "Eliminamos los duplicados."
   ]
  },
  {
   "cell_type": "code",
   "execution_count": 70,
   "metadata": {},
   "outputs": [],
   "source": [
    "df_nuevo = eliminar_duplicados(df_nuevo,'name')"
   ]
  },
  {
   "cell_type": "markdown",
   "metadata": {},
   "source": [
    "Analíso el conteo de filas para ver como se esta comportando mi data."
   ]
  },
  {
   "cell_type": "code",
   "execution_count": 71,
   "metadata": {},
   "outputs": [
    {
     "data": {
      "text/plain": [
       "661"
      ]
     },
     "execution_count": 71,
     "metadata": {},
     "output_type": "execute_result"
    }
   ],
   "source": [
    "df_nuevo.shape[0]"
   ]
  },
  {
   "cell_type": "markdown",
   "metadata": {},
   "source": [
    "Visualizamos el DataFrame."
   ]
  },
  {
   "cell_type": "code",
   "execution_count": 72,
   "metadata": {},
   "outputs": [
    {
     "data": {
      "text/html": [
       "<div>\n",
       "<style scoped>\n",
       "    .dataframe tbody tr th:only-of-type {\n",
       "        vertical-align: middle;\n",
       "    }\n",
       "\n",
       "    .dataframe tbody tr th {\n",
       "        vertical-align: top;\n",
       "    }\n",
       "\n",
       "    .dataframe thead th {\n",
       "        text-align: right;\n",
       "    }\n",
       "</style>\n",
       "<table border=\"1\" class=\"dataframe\">\n",
       "  <thead>\n",
       "    <tr style=\"text-align: right;\">\n",
       "      <th></th>\n",
       "      <th>name</th>\n",
       "      <th>gmap_id</th>\n",
       "      <th>latitude</th>\n",
       "      <th>longitude</th>\n",
       "      <th>category</th>\n",
       "      <th>avg_rating</th>\n",
       "      <th>num_of_reviews</th>\n",
       "      <th>url</th>\n",
       "    </tr>\n",
       "  </thead>\n",
       "  <tbody>\n",
       "    <tr>\n",
       "      <th>175</th>\n",
       "      <td>Basecamp Guesthouse</td>\n",
       "      <td>0x54907fca2751e187:0x3d6ae31ac18da483</td>\n",
       "      <td>47.471332</td>\n",
       "      <td>-121.686928</td>\n",
       "      <td>Hotel</td>\n",
       "      <td>5.0</td>\n",
       "      <td>8</td>\n",
       "      <td>https://www.google.com/maps/place//data=!4m2!3...</td>\n",
       "    </tr>\n",
       "    <tr>\n",
       "      <th>3611</th>\n",
       "      <td>Sugar River Loft</td>\n",
       "      <td>0x88062b28cb53ef6d:0x94df72568fddf391</td>\n",
       "      <td>42.619862</td>\n",
       "      <td>-89.377890</td>\n",
       "      <td>Hotel</td>\n",
       "      <td>4.7</td>\n",
       "      <td>8</td>\n",
       "      <td>https://www.google.com/maps/place//data=!4m2!3...</td>\n",
       "    </tr>\n",
       "    <tr>\n",
       "      <th>3828</th>\n",
       "      <td>Meraki Lodge</td>\n",
       "      <td>0x549b9d4ad8f113d5:0x8258a10cca866a62</td>\n",
       "      <td>47.887652</td>\n",
       "      <td>-120.120376</td>\n",
       "      <td>Hotel</td>\n",
       "      <td>4.9</td>\n",
       "      <td>15</td>\n",
       "      <td>https://www.google.com/maps/place//data=!4m2!3...</td>\n",
       "    </tr>\n",
       "    <tr>\n",
       "      <th>3830</th>\n",
       "      <td>View House at Lake Chelan</td>\n",
       "      <td>0x549b9db4d73626a3:0x348e8f7106d3be41</td>\n",
       "      <td>47.888291</td>\n",
       "      <td>-120.124120</td>\n",
       "      <td>Hotel</td>\n",
       "      <td>4.4</td>\n",
       "      <td>8</td>\n",
       "      <td>https://www.google.com/maps/place//data=!4m2!3...</td>\n",
       "    </tr>\n",
       "    <tr>\n",
       "      <th>4797</th>\n",
       "      <td>Station Lakefront Rental Home</td>\n",
       "      <td>0x4d55cee0af102c25:0x752b313677a78e1c</td>\n",
       "      <td>45.998720</td>\n",
       "      <td>-89.490867</td>\n",
       "      <td>Resort hotel</td>\n",
       "      <td>4.7</td>\n",
       "      <td>3</td>\n",
       "      <td>https://www.google.com/maps/place//data=!4m2!3...</td>\n",
       "    </tr>\n",
       "    <tr>\n",
       "      <th>...</th>\n",
       "      <td>...</td>\n",
       "      <td>...</td>\n",
       "      <td>...</td>\n",
       "      <td>...</td>\n",
       "      <td>...</td>\n",
       "      <td>...</td>\n",
       "      <td>...</td>\n",
       "      <td>...</td>\n",
       "    </tr>\n",
       "    <tr>\n",
       "      <th>272123</th>\n",
       "      <td>Kimp's Kamp Resort</td>\n",
       "      <td>0x52c9b83cc876987b:0x9a998c9eff52cffb</td>\n",
       "      <td>46.515093</td>\n",
       "      <td>-95.742150</td>\n",
       "      <td>Resort hotel</td>\n",
       "      <td>4.8</td>\n",
       "      <td>38</td>\n",
       "      <td>https://www.google.com/maps/place//data=!4m2!3...</td>\n",
       "    </tr>\n",
       "    <tr>\n",
       "      <th>272746</th>\n",
       "      <td>1200 South Ocean Blvd</td>\n",
       "      <td>0x890069b8ea819cb1:0xd7a54f4a9948981e</td>\n",
       "      <td>33.675458</td>\n",
       "      <td>-78.898831</td>\n",
       "      <td>Hotel</td>\n",
       "      <td>3.6</td>\n",
       "      <td>36</td>\n",
       "      <td>https://www.google.com/maps/place//data=!4m2!3...</td>\n",
       "    </tr>\n",
       "    <tr>\n",
       "      <th>272795</th>\n",
       "      <td>Pezhekee National Golf Course</td>\n",
       "      <td>0x52ca657620217cbd:0x34248c4fd46963c4</td>\n",
       "      <td>45.614260</td>\n",
       "      <td>-95.410095</td>\n",
       "      <td>Resort hotel</td>\n",
       "      <td>4.5</td>\n",
       "      <td>18</td>\n",
       "      <td>https://www.google.com/maps/place//data=!4m2!3...</td>\n",
       "    </tr>\n",
       "    <tr>\n",
       "      <th>273193</th>\n",
       "      <td>Hotel Inn</td>\n",
       "      <td>0x89c187f380b12d37:0x4e23f8e4a416fe6d</td>\n",
       "      <td>40.163787</td>\n",
       "      <td>-74.051379</td>\n",
       "      <td>Hotel</td>\n",
       "      <td>2.2</td>\n",
       "      <td>28</td>\n",
       "      <td>https://www.google.com/maps/place//data=!4m2!3...</td>\n",
       "    </tr>\n",
       "    <tr>\n",
       "      <th>274856</th>\n",
       "      <td>Fox Manor</td>\n",
       "      <td>0x89c0ee66816695c3:0x7c3a07cdaf253759</td>\n",
       "      <td>39.353975</td>\n",
       "      <td>-74.444105</td>\n",
       "      <td>Hotel</td>\n",
       "      <td>1.9</td>\n",
       "      <td>14</td>\n",
       "      <td>https://www.google.com/maps/place//data=!4m2!3...</td>\n",
       "    </tr>\n",
       "  </tbody>\n",
       "</table>\n",
       "<p>661 rows × 8 columns</p>\n",
       "</div>"
      ],
      "text/plain": [
       "                                 name                                gmap_id  \\\n",
       "175               Basecamp Guesthouse  0x54907fca2751e187:0x3d6ae31ac18da483   \n",
       "3611                 Sugar River Loft  0x88062b28cb53ef6d:0x94df72568fddf391   \n",
       "3828                     Meraki Lodge  0x549b9d4ad8f113d5:0x8258a10cca866a62   \n",
       "3830        View House at Lake Chelan  0x549b9db4d73626a3:0x348e8f7106d3be41   \n",
       "4797    Station Lakefront Rental Home  0x4d55cee0af102c25:0x752b313677a78e1c   \n",
       "...                               ...                                    ...   \n",
       "272123             Kimp's Kamp Resort  0x52c9b83cc876987b:0x9a998c9eff52cffb   \n",
       "272746          1200 South Ocean Blvd  0x890069b8ea819cb1:0xd7a54f4a9948981e   \n",
       "272795  Pezhekee National Golf Course  0x52ca657620217cbd:0x34248c4fd46963c4   \n",
       "273193                      Hotel Inn  0x89c187f380b12d37:0x4e23f8e4a416fe6d   \n",
       "274856                      Fox Manor  0x89c0ee66816695c3:0x7c3a07cdaf253759   \n",
       "\n",
       "         latitude   longitude      category  avg_rating  num_of_reviews  \\\n",
       "175     47.471332 -121.686928         Hotel         5.0               8   \n",
       "3611    42.619862  -89.377890         Hotel         4.7               8   \n",
       "3828    47.887652 -120.120376         Hotel         4.9              15   \n",
       "3830    47.888291 -120.124120         Hotel         4.4               8   \n",
       "4797    45.998720  -89.490867  Resort hotel         4.7               3   \n",
       "...           ...         ...           ...         ...             ...   \n",
       "272123  46.515093  -95.742150  Resort hotel         4.8              38   \n",
       "272746  33.675458  -78.898831         Hotel         3.6              36   \n",
       "272795  45.614260  -95.410095  Resort hotel         4.5              18   \n",
       "273193  40.163787  -74.051379         Hotel         2.2              28   \n",
       "274856  39.353975  -74.444105         Hotel         1.9              14   \n",
       "\n",
       "                                                      url  \n",
       "175     https://www.google.com/maps/place//data=!4m2!3...  \n",
       "3611    https://www.google.com/maps/place//data=!4m2!3...  \n",
       "3828    https://www.google.com/maps/place//data=!4m2!3...  \n",
       "3830    https://www.google.com/maps/place//data=!4m2!3...  \n",
       "4797    https://www.google.com/maps/place//data=!4m2!3...  \n",
       "...                                                   ...  \n",
       "272123  https://www.google.com/maps/place//data=!4m2!3...  \n",
       "272746  https://www.google.com/maps/place//data=!4m2!3...  \n",
       "272795  https://www.google.com/maps/place//data=!4m2!3...  \n",
       "273193  https://www.google.com/maps/place//data=!4m2!3...  \n",
       "274856  https://www.google.com/maps/place//data=!4m2!3...  \n",
       "\n",
       "[661 rows x 8 columns]"
      ]
     },
     "execution_count": 72,
     "metadata": {},
     "output_type": "execute_result"
    }
   ],
   "source": [
    "df_nuevo"
   ]
  },
  {
   "cell_type": "markdown",
   "metadata": {},
   "source": [
    "Reseteamos el indice de el DataFrame ya que trae el inicial."
   ]
  },
  {
   "cell_type": "code",
   "execution_count": 73,
   "metadata": {},
   "outputs": [],
   "source": [
    "df_nuevo.reset_index(drop=True, inplace=True)"
   ]
  },
  {
   "cell_type": "code",
   "execution_count": 74,
   "metadata": {},
   "outputs": [
    {
     "data": {
      "text/html": [
       "<div>\n",
       "<style scoped>\n",
       "    .dataframe tbody tr th:only-of-type {\n",
       "        vertical-align: middle;\n",
       "    }\n",
       "\n",
       "    .dataframe tbody tr th {\n",
       "        vertical-align: top;\n",
       "    }\n",
       "\n",
       "    .dataframe thead th {\n",
       "        text-align: right;\n",
       "    }\n",
       "</style>\n",
       "<table border=\"1\" class=\"dataframe\">\n",
       "  <thead>\n",
       "    <tr style=\"text-align: right;\">\n",
       "      <th></th>\n",
       "      <th>name</th>\n",
       "      <th>gmap_id</th>\n",
       "      <th>latitude</th>\n",
       "      <th>longitude</th>\n",
       "      <th>category</th>\n",
       "      <th>avg_rating</th>\n",
       "      <th>num_of_reviews</th>\n",
       "      <th>url</th>\n",
       "    </tr>\n",
       "  </thead>\n",
       "  <tbody>\n",
       "    <tr>\n",
       "      <th>0</th>\n",
       "      <td>Basecamp Guesthouse</td>\n",
       "      <td>0x54907fca2751e187:0x3d6ae31ac18da483</td>\n",
       "      <td>47.471332</td>\n",
       "      <td>-121.686928</td>\n",
       "      <td>Hotel</td>\n",
       "      <td>5.0</td>\n",
       "      <td>8</td>\n",
       "      <td>https://www.google.com/maps/place//data=!4m2!3...</td>\n",
       "    </tr>\n",
       "    <tr>\n",
       "      <th>1</th>\n",
       "      <td>Sugar River Loft</td>\n",
       "      <td>0x88062b28cb53ef6d:0x94df72568fddf391</td>\n",
       "      <td>42.619862</td>\n",
       "      <td>-89.377890</td>\n",
       "      <td>Hotel</td>\n",
       "      <td>4.7</td>\n",
       "      <td>8</td>\n",
       "      <td>https://www.google.com/maps/place//data=!4m2!3...</td>\n",
       "    </tr>\n",
       "    <tr>\n",
       "      <th>2</th>\n",
       "      <td>Meraki Lodge</td>\n",
       "      <td>0x549b9d4ad8f113d5:0x8258a10cca866a62</td>\n",
       "      <td>47.887652</td>\n",
       "      <td>-120.120376</td>\n",
       "      <td>Hotel</td>\n",
       "      <td>4.9</td>\n",
       "      <td>15</td>\n",
       "      <td>https://www.google.com/maps/place//data=!4m2!3...</td>\n",
       "    </tr>\n",
       "    <tr>\n",
       "      <th>3</th>\n",
       "      <td>View House at Lake Chelan</td>\n",
       "      <td>0x549b9db4d73626a3:0x348e8f7106d3be41</td>\n",
       "      <td>47.888291</td>\n",
       "      <td>-120.124120</td>\n",
       "      <td>Hotel</td>\n",
       "      <td>4.4</td>\n",
       "      <td>8</td>\n",
       "      <td>https://www.google.com/maps/place//data=!4m2!3...</td>\n",
       "    </tr>\n",
       "    <tr>\n",
       "      <th>4</th>\n",
       "      <td>Station Lakefront Rental Home</td>\n",
       "      <td>0x4d55cee0af102c25:0x752b313677a78e1c</td>\n",
       "      <td>45.998720</td>\n",
       "      <td>-89.490867</td>\n",
       "      <td>Resort hotel</td>\n",
       "      <td>4.7</td>\n",
       "      <td>3</td>\n",
       "      <td>https://www.google.com/maps/place//data=!4m2!3...</td>\n",
       "    </tr>\n",
       "    <tr>\n",
       "      <th>...</th>\n",
       "      <td>...</td>\n",
       "      <td>...</td>\n",
       "      <td>...</td>\n",
       "      <td>...</td>\n",
       "      <td>...</td>\n",
       "      <td>...</td>\n",
       "      <td>...</td>\n",
       "      <td>...</td>\n",
       "    </tr>\n",
       "    <tr>\n",
       "      <th>656</th>\n",
       "      <td>Kimp's Kamp Resort</td>\n",
       "      <td>0x52c9b83cc876987b:0x9a998c9eff52cffb</td>\n",
       "      <td>46.515093</td>\n",
       "      <td>-95.742150</td>\n",
       "      <td>Resort hotel</td>\n",
       "      <td>4.8</td>\n",
       "      <td>38</td>\n",
       "      <td>https://www.google.com/maps/place//data=!4m2!3...</td>\n",
       "    </tr>\n",
       "    <tr>\n",
       "      <th>657</th>\n",
       "      <td>1200 South Ocean Blvd</td>\n",
       "      <td>0x890069b8ea819cb1:0xd7a54f4a9948981e</td>\n",
       "      <td>33.675458</td>\n",
       "      <td>-78.898831</td>\n",
       "      <td>Hotel</td>\n",
       "      <td>3.6</td>\n",
       "      <td>36</td>\n",
       "      <td>https://www.google.com/maps/place//data=!4m2!3...</td>\n",
       "    </tr>\n",
       "    <tr>\n",
       "      <th>658</th>\n",
       "      <td>Pezhekee National Golf Course</td>\n",
       "      <td>0x52ca657620217cbd:0x34248c4fd46963c4</td>\n",
       "      <td>45.614260</td>\n",
       "      <td>-95.410095</td>\n",
       "      <td>Resort hotel</td>\n",
       "      <td>4.5</td>\n",
       "      <td>18</td>\n",
       "      <td>https://www.google.com/maps/place//data=!4m2!3...</td>\n",
       "    </tr>\n",
       "    <tr>\n",
       "      <th>659</th>\n",
       "      <td>Hotel Inn</td>\n",
       "      <td>0x89c187f380b12d37:0x4e23f8e4a416fe6d</td>\n",
       "      <td>40.163787</td>\n",
       "      <td>-74.051379</td>\n",
       "      <td>Hotel</td>\n",
       "      <td>2.2</td>\n",
       "      <td>28</td>\n",
       "      <td>https://www.google.com/maps/place//data=!4m2!3...</td>\n",
       "    </tr>\n",
       "    <tr>\n",
       "      <th>660</th>\n",
       "      <td>Fox Manor</td>\n",
       "      <td>0x89c0ee66816695c3:0x7c3a07cdaf253759</td>\n",
       "      <td>39.353975</td>\n",
       "      <td>-74.444105</td>\n",
       "      <td>Hotel</td>\n",
       "      <td>1.9</td>\n",
       "      <td>14</td>\n",
       "      <td>https://www.google.com/maps/place//data=!4m2!3...</td>\n",
       "    </tr>\n",
       "  </tbody>\n",
       "</table>\n",
       "<p>661 rows × 8 columns</p>\n",
       "</div>"
      ],
      "text/plain": [
       "                              name                                gmap_id  \\\n",
       "0              Basecamp Guesthouse  0x54907fca2751e187:0x3d6ae31ac18da483   \n",
       "1                 Sugar River Loft  0x88062b28cb53ef6d:0x94df72568fddf391   \n",
       "2                     Meraki Lodge  0x549b9d4ad8f113d5:0x8258a10cca866a62   \n",
       "3        View House at Lake Chelan  0x549b9db4d73626a3:0x348e8f7106d3be41   \n",
       "4    Station Lakefront Rental Home  0x4d55cee0af102c25:0x752b313677a78e1c   \n",
       "..                             ...                                    ...   \n",
       "656             Kimp's Kamp Resort  0x52c9b83cc876987b:0x9a998c9eff52cffb   \n",
       "657          1200 South Ocean Blvd  0x890069b8ea819cb1:0xd7a54f4a9948981e   \n",
       "658  Pezhekee National Golf Course  0x52ca657620217cbd:0x34248c4fd46963c4   \n",
       "659                      Hotel Inn  0x89c187f380b12d37:0x4e23f8e4a416fe6d   \n",
       "660                      Fox Manor  0x89c0ee66816695c3:0x7c3a07cdaf253759   \n",
       "\n",
       "      latitude   longitude      category  avg_rating  num_of_reviews  \\\n",
       "0    47.471332 -121.686928         Hotel         5.0               8   \n",
       "1    42.619862  -89.377890         Hotel         4.7               8   \n",
       "2    47.887652 -120.120376         Hotel         4.9              15   \n",
       "3    47.888291 -120.124120         Hotel         4.4               8   \n",
       "4    45.998720  -89.490867  Resort hotel         4.7               3   \n",
       "..         ...         ...           ...         ...             ...   \n",
       "656  46.515093  -95.742150  Resort hotel         4.8              38   \n",
       "657  33.675458  -78.898831         Hotel         3.6              36   \n",
       "658  45.614260  -95.410095  Resort hotel         4.5              18   \n",
       "659  40.163787  -74.051379         Hotel         2.2              28   \n",
       "660  39.353975  -74.444105         Hotel         1.9              14   \n",
       "\n",
       "                                                   url  \n",
       "0    https://www.google.com/maps/place//data=!4m2!3...  \n",
       "1    https://www.google.com/maps/place//data=!4m2!3...  \n",
       "2    https://www.google.com/maps/place//data=!4m2!3...  \n",
       "3    https://www.google.com/maps/place//data=!4m2!3...  \n",
       "4    https://www.google.com/maps/place//data=!4m2!3...  \n",
       "..                                                 ...  \n",
       "656  https://www.google.com/maps/place//data=!4m2!3...  \n",
       "657  https://www.google.com/maps/place//data=!4m2!3...  \n",
       "658  https://www.google.com/maps/place//data=!4m2!3...  \n",
       "659  https://www.google.com/maps/place//data=!4m2!3...  \n",
       "660  https://www.google.com/maps/place//data=!4m2!3...  \n",
       "\n",
       "[661 rows x 8 columns]"
      ]
     },
     "execution_count": 74,
     "metadata": {},
     "output_type": "execute_result"
    }
   ],
   "source": [
    "df_nuevo"
   ]
  },
  {
   "cell_type": "code",
   "execution_count": 75,
   "metadata": {},
   "outputs": [
    {
     "data": {
      "text/plain": [
       "0      0x54907fca2751e187:0x3d6ae31ac18da483\n",
       "1      0x88062b28cb53ef6d:0x94df72568fddf391\n",
       "2      0x549b9d4ad8f113d5:0x8258a10cca866a62\n",
       "3      0x549b9db4d73626a3:0x348e8f7106d3be41\n",
       "4      0x4d55cee0af102c25:0x752b313677a78e1c\n",
       "                       ...                  \n",
       "656    0x52c9b83cc876987b:0x9a998c9eff52cffb\n",
       "657    0x890069b8ea819cb1:0xd7a54f4a9948981e\n",
       "658    0x52ca657620217cbd:0x34248c4fd46963c4\n",
       "659    0x89c187f380b12d37:0x4e23f8e4a416fe6d\n",
       "660    0x89c0ee66816695c3:0x7c3a07cdaf253759\n",
       "Name: gmap_id, Length: 661, dtype: object"
      ]
     },
     "execution_count": 75,
     "metadata": {},
     "output_type": "execute_result"
    }
   ],
   "source": [
    "df_hoteles = df_nuevo[\"gmap_id\"]\n",
    "df_hoteles"
   ]
  },
  {
   "cell_type": "code",
   "execution_count": 77,
   "metadata": {},
   "outputs": [],
   "source": [
    "df_hoteles.to_csv(\"id_hoteles.csv\", index=False)\n"
   ]
  },
  {
   "cell_type": "code",
   "execution_count": 80,
   "metadata": {},
   "outputs": [],
   "source": [
    "df_nuevo.to_csv(\"hoteles.csv\", index=False)"
   ]
  }
 ],
 "metadata": {
  "kernelspec": {
   "display_name": "Python 3",
   "language": "python",
   "name": "python3"
  },
  "language_info": {
   "codemirror_mode": {
    "name": "ipython",
    "version": 3
   },
   "file_extension": ".py",
   "mimetype": "text/x-python",
   "name": "python",
   "nbconvert_exporter": "python",
   "pygments_lexer": "ipython3",
   "version": "3.11.4"
  }
 },
 "nbformat": 4,
 "nbformat_minor": 2
}
