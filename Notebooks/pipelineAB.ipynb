{
 "cells": [
  {
   "cell_type": "code",
   "execution_count": 3,
   "metadata": {},
   "outputs": [],
   "source": [
    "import apache_beam as beam\n",
    "import json\n",
    "import polars as pl\n",
    "import googlemaps"
   ]
  },
  {
   "cell_type": "code",
   "execution_count": 4,
   "metadata": {},
   "outputs": [],
   "source": [
    "archivo_entrada = './raw-data/1.json'\n",
    "archivo_salida = './clean-data/1.parquet'"
   ]
  },
  {
   "cell_type": "code",
   "execution_count": 5,
   "metadata": {},
   "outputs": [],
   "source": [
    "# Configurar la API Key de Google Maps\n",
    "with open('./APK/APK.txt', 'r') as file:\n",
    "    api_key = file.read().strip()\n",
    "\n",
    "gmaps = googlemaps.Client(key=api_key)"
   ]
  },
  {
   "cell_type": "code",
   "execution_count": 6,
   "metadata": {},
   "outputs": [],
   "source": [
    "# Función para cargar un archivo JSON y convertirlo en un DataFrame de Pandas\n",
    "def cargar_archivo_json(archivo):\n",
    "    data_list=[]\n",
    "    with open(archivo, 'r') as file:\n",
    "        for line in file:\n",
    "            # Cargar cada objeto JSON por separado\n",
    "            data = json.loads(line)\n",
    "            data_list.append(data)\n",
    "\n",
    "    # Ahora data_list es una lista que contiene todos los objetos JSON del archivo\n",
    "    df = pl.DataFrame(data_list)\n",
    "    return df"
   ]
  },
  {
   "cell_type": "code",
   "execution_count": 7,
   "metadata": {},
   "outputs": [],
   "source": [
    "# Función para realizar transformaciones en el DataFrame de Pandas\n",
    "def aplicar_transformaciones(dft):\n",
    "    dft = dft.drop(['address', 'description', 'price', 'hours', 'MISC', 'state', 'relative_results'])\n",
    "    dft = dft.explode('category')\n",
    "    dft = dft.filter(dft['category'].str.contains(f'(?i)hotel'))\n",
    "    dft = dft.unique(subset=['gmap_id'], keep='first')\n",
    "    return dft"
   ]
  },
  {
   "cell_type": "code",
   "execution_count": 1,
   "metadata": {},
   "outputs": [],
   "source": [
    "# Definir la función para obtener city y country a partir de coordenadas\n",
    "def obtener_geo(df2):\n",
    "    counties, cities, states, countries, = [], [], [], []\n",
    "\n",
    "    for lat, lon in zip(df2['latitude'], df2['longitude']):\n",
    "        resultado = gmaps.reverse_geocode((lat, lon))\n",
    "        county, city, state, country = None, None, None, None\n",
    "\n",
    "        if resultado:\n",
    "            for component in resultado[0]['address_components']:\n",
    "                if 'locality' in component['types'] and not city:\n",
    "                    city = component['long_name']\n",
    "\n",
    "                elif 'administrative_area_level_2' in component['types'] and not county:\n",
    "                    county = component['long_name']\n",
    "\n",
    "                elif 'administrative_area_level_1' in component['types'] and not state:\n",
    "                    state = component['long_name']\n",
    "\n",
    "                elif 'country' in component['types'] and not country:\n",
    "                    country = component['long_name']\n",
    "                elif city and county and state and country:\n",
    "                  break\n",
    "\n",
    "        counties.append(county)\n",
    "        cities.append(city)\n",
    "        states.append(state)\n",
    "        countries.append(country)\n",
    "\n",
    "    counties, cities, states, countries = pl.Series(counties), pl.Series(cities), pl.Series(states), pl.Series(countries)\n",
    "    df2 = df2.with_columns(\n",
    "    County=counties,\n",
    "    City=cities,\n",
    "    State=states,\n",
    "    Country=countries)\n",
    "    return df2"
   ]
  },
  {
   "cell_type": "code",
   "execution_count": 10,
   "metadata": {},
   "outputs": [],
   "source": [
    "with beam.Pipeline() as pipeline:\n",
    "    # Carga el archivo json como una PCollection de Polars DataFrames\n",
    "    datos_pcollection = (\n",
    "        pipeline\n",
    "        | 'Cargar archivo json' >> beam.Create([archivo_entrada])\n",
    "        | 'Convertir a DataFrame de Polars' >> beam.Map(cargar_archivo_json)\n",
    "    )\n",
    "\n",
    "    # Aplica transformaciones utilizando Polars\n",
    "    datos_transformados_pcollection = (\n",
    "        datos_pcollection\n",
    "        | 'Aplicar transformaciones' >> beam.Map(aplicar_transformaciones)\n",
    "    )\n",
    "    # Aplica transformaciones utilizando Polars\n",
    "    datos_geograficos_pcollection = (\n",
    "        datos_transformados_pcollection\n",
    "        | 'Obtener datos geograficos' >> beam.Map(obtener_geo)\n",
    "    )\n",
    "    # guarda el resultado\n",
    "    datos_geograficos_pcollection | 'Guardar datos transformados' >> beam.Map(lambda df: df.write_parquet(archivo_salida))"
   ]
  },
  {
   "cell_type": "code",
   "execution_count": null,
   "metadata": {},
   "outputs": [],
   "source": []
  }
 ],
 "metadata": {
  "kernelspec": {
   "display_name": "Python 3",
   "language": "python",
   "name": "python3"
  },
  "language_info": {
   "codemirror_mode": {
    "name": "ipython",
    "version": 3
   },
   "file_extension": ".py",
   "mimetype": "text/x-python",
   "name": "python",
   "nbconvert_exporter": "python",
   "pygments_lexer": "ipython3",
   "version": "3.11.8"
  }
 },
 "nbformat": 4,
 "nbformat_minor": 2
}
